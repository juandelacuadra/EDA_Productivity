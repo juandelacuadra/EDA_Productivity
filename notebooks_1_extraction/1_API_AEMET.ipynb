{
 "cells": [
  {
   "cell_type": "markdown",
   "metadata": {},
   "source": [
    "# EXTRACCION Y LIMPIEZA DE DATOS CLIMÁTICOS\n",
    "\n",
    "Proyecto donde se nos solicita ver cómo diferentes factores exógenos afectan a la productividad.\n",
    "\n",
    "_Project in which it was asked to see how different exogenous factors affect productivity._\n",
    "\n",
    "---\n",
    "\n"
   ]
  },
  {
   "cell_type": "markdown",
   "metadata": {},
   "source": [
    "### _*Requirements*_"
   ]
  },
  {
   "cell_type": "code",
   "execution_count": 2,
   "metadata": {},
   "outputs": [
    {
     "ename": "ModuleNotFoundError",
     "evalue": "No module named 'scripts.functions'",
     "output_type": "error",
     "traceback": [
      "\u001b[1;31m---------------------------------------------------------------------------\u001b[0m",
      "\u001b[1;31mModuleNotFoundError\u001b[0m                       Traceback (most recent call last)",
      "Cell \u001b[1;32mIn[2], line 1\u001b[0m\n\u001b[1;32m----> 1\u001b[0m \u001b[38;5;28;01mimport\u001b[39;00m \u001b[38;5;21;01mscripts\u001b[39;00m\u001b[38;5;21;01m.\u001b[39;00m\u001b[38;5;21;01mfunctions\u001b[39;00m\n\u001b[0;32m      2\u001b[0m \u001b[38;5;28;01mimport\u001b[39;00m \u001b[38;5;21;01mjson\u001b[39;00m\n\u001b[0;32m      3\u001b[0m \u001b[38;5;28;01mimport\u001b[39;00m \u001b[38;5;21;01mmatplotlib\u001b[39;00m\n",
      "\u001b[1;31mModuleNotFoundError\u001b[0m: No module named 'scripts.functions'"
     ]
    }
   ],
   "source": [
    "import scripts.functions\n",
    "import json\n",
    "import matplotlib\n",
    "import matplotlib.pyplot as plt\n",
    "import missingno as msno\n",
    "import pandas as pd\n",
    "import sys\n",
    "\n",
    "print(\"### ---- Version ---- ###\")\n",
    "print(\"Python:\", sys.version)\n",
    "print(\"Pandas:\", pd.__version__)\n",
    "print(\"Matplotlib:\", matplotlib.__version__)\n",
    "print(\"### ----------------- ###\")"
   ]
  },
  {
   "cell_type": "markdown",
   "metadata": {},
   "source": [
    "---\n",
    "\n",
    "### _*Provider*_\n",
    "\n",
    "- Se toman los datos diarios de la estación meteorológica del aeropuerto de sevilla en el rango de fechas a estudiar.\n",
    "\n",
    "- Para ello usaremos la API de la AEMET (Agencia Estatal de Meteorología), en la estación 5783 situada en el Aeropuerto Sevilla / San Pablo.\n",
    "\n",
    "        IDEMA - 5783\n",
    "        NOMBRE - SEVILLA AEROPUERTO\n",
    "        LOCALIDAD - SEVILLA\n",
    "        PROVINCIA - SEVILLA\n",
    "        ALTITUD - 34 msnm\n",
    "\n",
    "- Tomaremos esta estación como referencia para el área metropolitana de Sevilla. **\\*NOTA**: En siguientes fases podemos tener en cuenta la distribución de donde viven los empleados.\\*\n",
    "\n",
    "- De la API (AEMET OpenData API) obtenemos un JSON con los registros diarios de dicha estación. Usaremos los siguientes valores:\n",
    "\n",
    "1. **tmax** -> Temperatura máxima (ºC)\n",
    "1. **prec** -> Precipitación acumulada (l/m2)\n",
    "\n",
    "- Serán los valores **calor** y **lluvia** respectivamente.\n",
    "\n",
    "\n"
   ]
  },
  {
   "cell_type": "markdown",
   "metadata": {},
   "source": [
    "### _*Reference dates*_\n",
    "\n",
    "La API devuelve como mucho bloques de 4 años. Nos viene justo para el intervalo estudiado: 2019-2023."
   ]
  },
  {
   "cell_type": "code",
   "execution_count": null,
   "metadata": {},
   "outputs": [],
   "source": [
    "F_INICIO = '2019-01-01'\n",
    "F_FIN = '2023-12-31'"
   ]
  }
 ],
 "metadata": {
  "kernelspec": {
   "display_name": "Python 3",
   "language": "python",
   "name": "python3"
  },
  "language_info": {
   "codemirror_mode": {
    "name": "ipython",
    "version": 3
   },
   "file_extension": ".py",
   "mimetype": "text/x-python",
   "name": "python",
   "nbconvert_exporter": "python",
   "pygments_lexer": "ipython3",
   "version": "3.11.1"
  }
 },
 "nbformat": 4,
 "nbformat_minor": 2
}
