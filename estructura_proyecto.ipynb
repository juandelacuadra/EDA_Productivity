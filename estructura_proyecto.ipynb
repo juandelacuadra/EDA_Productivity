{
 "cells": [
  {
   "cell_type": "code",
   "execution_count": 1,
   "metadata": {},
   "outputs": [
    {
     "name": "stdout",
     "output_type": "stream",
     "text": [
      "\n",
      "$ Operating System : Windows\n",
      "$ Path : c:\\Users\\jdelacu1\\Documents\\A.Proyectos\\EDA_Productivity\n",
      "    \n",
      "*************** Directory Tree ***************\n",
      "\n",
      "EDA_Productivity/\n",
      "├── data/\n",
      "│   ├── clean/\n",
      "│   ├── dummy.txt\n",
      "│   └── raw/\n",
      "├── estructura_proyecto.ipynb\n",
      "├── notebooks_1_extraction/\n",
      "│   └── 1_API_AEMET.ipynb\n",
      "├── notebooks_2_exploration/\n",
      "├── py_scripts/\n",
      "│   ├── __init__.py\n",
      "│   └── functions.py\n",
      "├── README.md\n",
      "├── requirements.txt\n",
      "└── utils/\n",
      "    └── calendars/\n",
      "        ├── 2019.csv\n",
      "        ├── 2020.csv\n",
      "        ├── 2021.csv\n",
      "        ├── 2022.csv\n",
      "        └── 2023.csv\n"
     ]
    }
   ],
   "source": [
    "from directory_tree import display_tree\n",
    "display_tree(header=True)"
   ]
  },
  {
   "cell_type": "code",
   "execution_count": 2,
   "metadata": {},
   "outputs": [],
   "source": [
    "from scripts.functions import *"
   ]
  }
 ],
 "metadata": {
  "kernelspec": {
   "display_name": "Python 3",
   "language": "python",
   "name": "python3"
  },
  "language_info": {
   "codemirror_mode": {
    "name": "ipython",
    "version": 3
   },
   "file_extension": ".py",
   "mimetype": "text/x-python",
   "name": "python",
   "nbconvert_exporter": "python",
   "pygments_lexer": "ipython3",
   "version": "3.11.1"
  }
 },
 "nbformat": 4,
 "nbformat_minor": 2
}
